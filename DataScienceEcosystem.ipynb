{
 "cells": [
  {
   "cell_type": "markdown",
   "id": "d6a712b7",
   "metadata": {},
   "source": [
    "# Data Science Tools and Ecosystem"
   ]
  },
  {
   "cell_type": "markdown",
   "id": "1288758d",
   "metadata": {},
   "source": [
    "In this notebook, Data Science Tools and Ecosystem are summarized.\n"
   ]
  },
  {
   "cell_type": "markdown",
   "id": "f4bafbbd",
   "metadata": {},
   "source": [
    "__Objectives:__\n",
    "-  List popular languages for Data Science\n",
    "-  Introduce NumPy and Pandas libraries for data manipulation and analysis\n",
    "-  Demonstrate basic data visualization techniques using Matplotlib and Seaborn\n",
    "-  Explain machine learning and common algorithms, including supervised and unsupervised learning\n",
    "-  Provide examples of how to build and evaluate machine learning models using scikit-learn"
   ]
  },
  {
   "cell_type": "markdown",
   "id": "ed57690c",
   "metadata": {},
   "source": [
    "Some of the popular languages that Data Scientists use are:\n",
    "1. Python\n",
    "2. R\n",
    "3. SPSS"
   ]
  },
  {
   "cell_type": "markdown",
   "id": "489db922",
   "metadata": {},
   "source": [
    "Some of the commonly used libraries used by Data Scientists include:\n",
    "1. Tensorflow\n",
    "2. Pytorch\n",
    "3. Pandas"
   ]
  },
  {
   "cell_type": "markdown",
   "id": "a545ee46",
   "metadata": {},
   "source": [
    "|Data Science Tools|\n",
    "|------------------|\n",
    "| Jupyter Notebook |\n",
    "| RStudio          |\n",
    "| Orange           |"
   ]
  },
  {
   "cell_type": "markdown",
   "id": "2759a5e2",
   "metadata": {},
   "source": [
    "### Below are a few examples of evaluating arithmetic expressions in Python.\n"
   ]
  },
  {
   "cell_type": "code",
   "execution_count": 14,
   "id": "96374980",
   "metadata": {},
   "outputs": [
    {
     "data": {
      "text/plain": [
       "17"
      ]
     },
     "execution_count": 14,
     "metadata": {},
     "output_type": "execute_result"
    }
   ],
   "source": [
    "#This a simple arithmetic expression to mutiply then add integers\n",
    "(3*4)+5"
   ]
  },
  {
   "cell_type": "code",
   "execution_count": 15,
   "id": "b09df680",
   "metadata": {},
   "outputs": [
    {
     "name": "stdout",
     "output_type": "stream",
     "text": [
      "3.3333333333333335\n"
     ]
    }
   ],
   "source": [
    "#This will convert 200 minutes to hours by diving by 60\n",
    "hours = 200 / 60\n",
    "print(hours)"
   ]
  },
  {
   "cell_type": "markdown",
   "id": "efba05cd",
   "metadata": {},
   "source": [
    "## Author:\n",
    "Yasmine Med"
   ]
  },
  {
   "cell_type": "code",
   "execution_count": null,
   "id": "5a2d3ee5",
   "metadata": {},
   "outputs": [],
   "source": []
  }
 ],
 "metadata": {
  "kernelspec": {
   "display_name": "Python 3 (ipykernel)",
   "language": "python",
   "name": "python3"
  },
  "language_info": {
   "codemirror_mode": {
    "name": "ipython",
    "version": 3
   },
   "file_extension": ".py",
   "mimetype": "text/x-python",
   "name": "python",
   "nbconvert_exporter": "python",
   "pygments_lexer": "ipython3",
   "version": "3.9.16"
  }
 },
 "nbformat": 4,
 "nbformat_minor": 5
}
